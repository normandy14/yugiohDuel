{
 "cells": [
  {
   "cell_type": "code",
   "execution_count": 2,
   "id": "d8cc186a-1ba5-449c-a8a7-6feecad82eda",
   "metadata": {},
   "outputs": [],
   "source": [
    "import pandas as pd"
   ]
  },
  {
   "cell_type": "code",
   "execution_count": 51,
   "id": "1a3d2a1a-a544-44b0-85af-6ef61d018c7d",
   "metadata": {},
   "outputs": [],
   "source": [
    "df = pd.read_csv('YugiSheets.csv')"
   ]
  },
  {
   "cell_type": "code",
   "execution_count": 52,
   "id": "e7bcfe36-b358-46a3-9b45-aef065cc3d56",
   "metadata": {},
   "outputs": [],
   "source": [
    "df2 = df[['English name']]"
   ]
  },
  {
   "cell_type": "code",
   "execution_count": 53,
   "id": "b6c2fb36-23bc-4583-b0f5-572cff65ac24",
   "metadata": {},
   "outputs": [
    {
     "data": {
      "text/html": [
       "<div>\n",
       "<style scoped>\n",
       "    .dataframe tbody tr th:only-of-type {\n",
       "        vertical-align: middle;\n",
       "    }\n",
       "\n",
       "    .dataframe tbody tr th {\n",
       "        vertical-align: top;\n",
       "    }\n",
       "\n",
       "    .dataframe thead th {\n",
       "        text-align: right;\n",
       "    }\n",
       "</style>\n",
       "<table border=\"1\" class=\"dataframe\">\n",
       "  <thead>\n",
       "    <tr style=\"text-align: right;\">\n",
       "      <th></th>\n",
       "      <th>English name</th>\n",
       "    </tr>\n",
       "  </thead>\n",
       "  <tbody>\n",
       "    <tr>\n",
       "      <th>0</th>\n",
       "      <td>\"Kaiser Sea Horse\"</td>\n",
       "    </tr>\n",
       "    <tr>\n",
       "      <th>1</th>\n",
       "      <td>\"Vampire Lord\"</td>\n",
       "    </tr>\n",
       "    <tr>\n",
       "      <th>2</th>\n",
       "      <td>\"Blue-Eyes White Dragon\"</td>\n",
       "    </tr>\n",
       "    <tr>\n",
       "      <th>3</th>\n",
       "      <td>\"Blue-Eyes White Dragon\" (Chinese)</td>\n",
       "    </tr>\n",
       "    <tr>\n",
       "      <th>4</th>\n",
       "      <td>\"Blue-Eyes White Dragon\" (Asian-English)</td>\n",
       "    </tr>\n",
       "    <tr>\n",
       "      <th>5</th>\n",
       "      <td>\"Vorse Raider\"</td>\n",
       "    </tr>\n",
       "    <tr>\n",
       "      <th>6</th>\n",
       "      <td>\"Steel Ogre Grotto #2\"</td>\n",
       "    </tr>\n",
       "    <tr>\n",
       "      <th>7</th>\n",
       "      <td>\"La Jinn the Mystical Genie of the Lamp\"</td>\n",
       "    </tr>\n",
       "    <tr>\n",
       "      <th>8</th>\n",
       "      <td>\"Battle Ox\"</td>\n",
       "    </tr>\n",
       "    <tr>\n",
       "      <th>9</th>\n",
       "      <td>\"Saggi the Dark Clown\"</td>\n",
       "    </tr>\n",
       "    <tr>\n",
       "      <th>10</th>\n",
       "      <td>\"Ryu-Kishin Powered\"</td>\n",
       "    </tr>\n",
       "    <tr>\n",
       "      <th>11</th>\n",
       "      <td>\"Cyber-Stein\"</td>\n",
       "    </tr>\n",
       "    <tr>\n",
       "      <th>12</th>\n",
       "      <td>\"Sangan\"</td>\n",
       "    </tr>\n",
       "    <tr>\n",
       "      <th>13</th>\n",
       "      <td>\"Gilasaurus\"</td>\n",
       "    </tr>\n",
       "    <tr>\n",
       "      <th>14</th>\n",
       "      <td>\"Invitation to a Dark Sleep\"</td>\n",
       "    </tr>\n",
       "    <tr>\n",
       "      <th>15</th>\n",
       "      <td>\"Ancient Lamp\"</td>\n",
       "    </tr>\n",
       "    <tr>\n",
       "      <th>16</th>\n",
       "      <td>\"Heavy Storm\"</td>\n",
       "    </tr>\n",
       "    <tr>\n",
       "      <th>17</th>\n",
       "      <td>\"Monster Reborn\"</td>\n",
       "    </tr>\n",
       "    <tr>\n",
       "      <th>18</th>\n",
       "      <td>\"Premature Burial\"</td>\n",
       "    </tr>\n",
       "    <tr>\n",
       "      <th>19</th>\n",
       "      <td>\"Graceful Charity\"</td>\n",
       "    </tr>\n",
       "    <tr>\n",
       "      <th>20</th>\n",
       "      <td>\"Tribute to The Doomed\"</td>\n",
       "    </tr>\n",
       "    <tr>\n",
       "      <th>21</th>\n",
       "      <td>\"Mesmeric Control\"</td>\n",
       "    </tr>\n",
       "    <tr>\n",
       "      <th>22</th>\n",
       "      <td>\"Megamorph\"</td>\n",
       "    </tr>\n",
       "    <tr>\n",
       "      <th>23</th>\n",
       "      <td>\"Soul Exchange\"</td>\n",
       "    </tr>\n",
       "    <tr>\n",
       "      <th>24</th>\n",
       "      <td>\"Ekibyo Drakmord\"</td>\n",
       "    </tr>\n",
       "    <tr>\n",
       "      <th>25</th>\n",
       "      <td>\"The Shallow Grave\"</td>\n",
       "    </tr>\n",
       "    <tr>\n",
       "      <th>26</th>\n",
       "      <td>\"Nobleman of Extermination\"</td>\n",
       "    </tr>\n",
       "    <tr>\n",
       "      <th>27</th>\n",
       "      <td>\"Nobleman of Crossout\"</td>\n",
       "    </tr>\n",
       "    <tr>\n",
       "      <th>28</th>\n",
       "      <td>\"Dark Hole\"</td>\n",
       "    </tr>\n",
       "    <tr>\n",
       "      <th>29</th>\n",
       "      <td>\"Snatch Steal\"</td>\n",
       "    </tr>\n",
       "    <tr>\n",
       "      <th>30</th>\n",
       "      <td>\"Gift of The Mystical Elf\"</td>\n",
       "    </tr>\n",
       "    <tr>\n",
       "      <th>31</th>\n",
       "      <td>\"Riryoku Field\"</td>\n",
       "    </tr>\n",
       "    <tr>\n",
       "      <th>32</th>\n",
       "      <td>\"Negate Attack\"</td>\n",
       "    </tr>\n",
       "    <tr>\n",
       "      <th>33</th>\n",
       "      <td>\"Ring of Destruction\"</td>\n",
       "    </tr>\n",
       "    <tr>\n",
       "      <th>34</th>\n",
       "      <td>\"Shadow Spell\"</td>\n",
       "    </tr>\n",
       "    <tr>\n",
       "      <th>35</th>\n",
       "      <td>\"Crush Card Virus\"</td>\n",
       "    </tr>\n",
       "    <tr>\n",
       "      <th>36</th>\n",
       "      <td>\"Blue-Eyes Ultimate Dragon\" (Replica)</td>\n",
       "    </tr>\n",
       "    <tr>\n",
       "      <th>37</th>\n",
       "      <td>\"Gadget Soldier\"</td>\n",
       "    </tr>\n",
       "    <tr>\n",
       "      <th>38</th>\n",
       "      <td>\"Versago the Destroyer\"</td>\n",
       "    </tr>\n",
       "    <tr>\n",
       "      <th>39</th>\n",
       "      <td>\"Needle Worm\"</td>\n",
       "    </tr>\n",
       "    <tr>\n",
       "      <th>40</th>\n",
       "      <td>\"The Wicked Worm Beast\"</td>\n",
       "    </tr>\n",
       "    <tr>\n",
       "      <th>41</th>\n",
       "      <td>\"Hiro's Shadow Scout\"</td>\n",
       "    </tr>\n",
       "    <tr>\n",
       "      <th>42</th>\n",
       "      <td>\"Morphing Jar #2\"</td>\n",
       "    </tr>\n",
       "    <tr>\n",
       "      <th>43</th>\n",
       "      <td>\"Summoner of Illusions\"</td>\n",
       "    </tr>\n",
       "    <tr>\n",
       "      <th>44</th>\n",
       "      <td>\"Lord of D.\"</td>\n",
       "    </tr>\n",
       "    <tr>\n",
       "      <th>45</th>\n",
       "      <td>\"Man-Eater Bug\"</td>\n",
       "    </tr>\n",
       "    <tr>\n",
       "      <th>46</th>\n",
       "      <td>\"The Flute of Summoning Dragon\"</td>\n",
       "    </tr>\n",
       "    <tr>\n",
       "      <th>47</th>\n",
       "      <td>\"Fairy Meteor Crush\"</td>\n",
       "    </tr>\n",
       "    <tr>\n",
       "      <th>48</th>\n",
       "      <td>\"Polymerization\"</td>\n",
       "    </tr>\n",
       "    <tr>\n",
       "      <th>49</th>\n",
       "      <td>\"Light of Intervention\"</td>\n",
       "    </tr>\n",
       "  </tbody>\n",
       "</table>\n",
       "</div>"
      ],
      "text/plain": [
       "                                English name\n",
       "0                         \"Kaiser Sea Horse\"\n",
       "1                             \"Vampire Lord\"\n",
       "2                   \"Blue-Eyes White Dragon\"\n",
       "3         \"Blue-Eyes White Dragon\" (Chinese)\n",
       "4   \"Blue-Eyes White Dragon\" (Asian-English)\n",
       "5                             \"Vorse Raider\"\n",
       "6                     \"Steel Ogre Grotto #2\"\n",
       "7   \"La Jinn the Mystical Genie of the Lamp\"\n",
       "8                                \"Battle Ox\"\n",
       "9                     \"Saggi the Dark Clown\"\n",
       "10                      \"Ryu-Kishin Powered\"\n",
       "11                             \"Cyber-Stein\"\n",
       "12                                  \"Sangan\"\n",
       "13                              \"Gilasaurus\"\n",
       "14              \"Invitation to a Dark Sleep\"\n",
       "15                            \"Ancient Lamp\"\n",
       "16                             \"Heavy Storm\"\n",
       "17                          \"Monster Reborn\"\n",
       "18                        \"Premature Burial\"\n",
       "19                        \"Graceful Charity\"\n",
       "20                   \"Tribute to The Doomed\"\n",
       "21                        \"Mesmeric Control\"\n",
       "22                               \"Megamorph\"\n",
       "23                           \"Soul Exchange\"\n",
       "24                         \"Ekibyo Drakmord\"\n",
       "25                       \"The Shallow Grave\"\n",
       "26               \"Nobleman of Extermination\"\n",
       "27                    \"Nobleman of Crossout\"\n",
       "28                               \"Dark Hole\"\n",
       "29                            \"Snatch Steal\"\n",
       "30                \"Gift of The Mystical Elf\"\n",
       "31                           \"Riryoku Field\"\n",
       "32                           \"Negate Attack\"\n",
       "33                     \"Ring of Destruction\"\n",
       "34                            \"Shadow Spell\"\n",
       "35                        \"Crush Card Virus\"\n",
       "36     \"Blue-Eyes Ultimate Dragon\" (Replica)\n",
       "37                          \"Gadget Soldier\"\n",
       "38                   \"Versago the Destroyer\"\n",
       "39                             \"Needle Worm\"\n",
       "40                   \"The Wicked Worm Beast\"\n",
       "41                     \"Hiro's Shadow Scout\"\n",
       "42                         \"Morphing Jar #2\"\n",
       "43                   \"Summoner of Illusions\"\n",
       "44                              \"Lord of D.\"\n",
       "45                           \"Man-Eater Bug\"\n",
       "46           \"The Flute of Summoning Dragon\"\n",
       "47                      \"Fairy Meteor Crush\"\n",
       "48                          \"Polymerization\"\n",
       "49                   \"Light of Intervention\""
      ]
     },
     "execution_count": 53,
     "metadata": {},
     "output_type": "execute_result"
    }
   ],
   "source": [
    "df2"
   ]
  },
  {
   "cell_type": "code",
   "execution_count": 18,
   "id": "d1015186-c75c-4722-ae8a-8ef05b89795f",
   "metadata": {},
   "outputs": [
    {
     "name": "stdout",
     "output_type": "stream",
     "text": [
      "['Kaiser Sea Horse', 'Vampire Lord', 'Blue-Eyes White Dragon', 'Blue-Eyes White Dragon (Chinese)', 'Blue-Eyes White Dragon (Asian-English)', 'Vorse Raider', 'Steel Ogre Grotto #2', 'La Jinn the Mystical Genie of the Lamp', 'Battle Ox', 'Saggi the Dark Clown', 'Ryu-Kishin Powered', 'Cyber-Stein', 'Sangan', 'Gilasaurus', 'Invitation to a Dark Sleep', 'Ancient Lamp', 'Heavy Storm', 'Monster Reborn', 'Premature Burial', 'Graceful Charity', 'Tribute to The Doomed', 'Mesmeric Control', 'Megamorph', 'Soul Exchange', 'Ekibyo Drakmord', 'The Shallow Grave', 'Nobleman of Extermination', 'Nobleman of Crossout', 'Dark Hole', 'Snatch Steal', 'Gift of The Mystical Elf', 'Riryoku Field', 'Negate Attack', 'Ring of Destruction', 'Shadow Spell', 'Crush Card Virus', 'Blue-Eyes Ultimate Dragon (Replica)', 'Gadget Soldier', 'Versago the Destroyer', 'Needle Worm', 'The Wicked Worm Beast', \"Hiro's Shadow Scout\", 'Morphing Jar #2', 'Summoner of Illusions', 'Lord of D.', 'Man-Eater Bug', 'The Flute of Summoning Dragon', 'Fairy Meteor Crush', 'Polymerization', 'Light of Intervention']\n"
     ]
    }
   ],
   "source": [
    "cardNames = []\n",
    "for row in df2['English name']:\n",
    "    cardNames.append(row.replace('\"',''))\n",
    "print (cardNames)"
   ]
  },
  {
   "cell_type": "code",
   "execution_count": 30,
   "id": "7fa6cd3a-598d-4c30-8403-4426ed69a47a",
   "metadata": {},
   "outputs": [],
   "source": [
    "df3 = pd.DataFrame(cardNames)"
   ]
  },
  {
   "cell_type": "code",
   "execution_count": 34,
   "id": "a0573a1b-26ac-4d77-a46a-4d3fd00b4a16",
   "metadata": {},
   "outputs": [],
   "source": [
    "df3.to_csv(\"YugiListClean.csv\", header=False, sep=',',index=False)"
   ]
  },
  {
   "cell_type": "code",
   "execution_count": 10,
   "id": "e9358868-cbc5-4306-8557-6cdf1fbcbfe6",
   "metadata": {},
   "outputs": [],
   "source": [
    "import sqlite3"
   ]
  },
  {
   "cell_type": "code",
   "execution_count": 36,
   "id": "98ea7323-43eb-447c-8ca0-5d97085033e2",
   "metadata": {},
   "outputs": [],
   "source": [
    "connection = sqlite3.connect('Yugidb.db')"
   ]
  },
  {
   "cell_type": "code",
   "execution_count": 37,
   "id": "5b2ef279-ba4b-4230-b860-6f2b5a2999e2",
   "metadata": {},
   "outputs": [],
   "source": [
    "cursor = connection.cursor()"
   ]
  },
  {
   "cell_type": "code",
   "execution_count": 38,
   "id": "3aa296e1-261a-48b7-bcd6-efb670c03a9e",
   "metadata": {},
   "outputs": [],
   "source": [
    "create_table = '''CREATE TABLE deck1 (\n",
    "                id INTEGER PRIMARY KEY AUTOINCREMENT,\n",
    "                name TEXT NOT NULL\n",
    "                );\n",
    "                '''"
   ]
  },
  {
   "cell_type": "code",
   "execution_count": 39,
   "id": "50eb2e42-b2a8-4fea-85b3-5bdf4e1ec93f",
   "metadata": {},
   "outputs": [
    {
     "data": {
      "text/plain": [
       "<sqlite3.Cursor at 0x1e4eb617140>"
      ]
     },
     "execution_count": 39,
     "metadata": {},
     "output_type": "execute_result"
    }
   ],
   "source": [
    "cursor.execute(create_table)"
   ]
  },
  {
   "cell_type": "code",
   "execution_count": 40,
   "id": "931aaf94-45a4-4af6-b580-cfc59c303a47",
   "metadata": {},
   "outputs": [],
   "source": [
    "file = open(\"YugiListClean.csv\")"
   ]
  },
  {
   "cell_type": "code",
   "execution_count": 41,
   "id": "f95e4e03-026b-46ac-8aa8-928aa8a5ee7d",
   "metadata": {},
   "outputs": [],
   "source": [
    "contents = csv.reader(file)"
   ]
  },
  {
   "cell_type": "code",
   "execution_count": 42,
   "id": "60fe9fd8-9c2d-4768-99b3-c3ce8681cced",
   "metadata": {},
   "outputs": [
    {
     "data": {
      "text/plain": [
       "<sqlite3.Cursor at 0x1e4eb617140>"
      ]
     },
     "execution_count": 42,
     "metadata": {},
     "output_type": "execute_result"
    }
   ],
   "source": [
    "insert_records = \"INSERT INTO deck1 (name) VALUES(?)\"\n",
    " \n",
    "cursor.executemany(insert_records, contents)"
   ]
  },
  {
   "cell_type": "code",
   "execution_count": 44,
   "id": "0e410f3c-bedf-4866-9f61-fecd449b2eca",
   "metadata": {},
   "outputs": [],
   "source": [
    "select_all = \"SELECT * FROM deck1\"\n",
    "rows = cursor.execute(select_all).fetchall()"
   ]
  },
  {
   "cell_type": "code",
   "execution_count": 45,
   "id": "cb5654d5-9227-4677-b325-be1c66c01fd8",
   "metadata": {},
   "outputs": [
    {
     "name": "stdout",
     "output_type": "stream",
     "text": [
      "(1, 'Kaiser Sea Horse')\n",
      "(2, 'Vampire Lord')\n",
      "(3, 'Blue-Eyes White Dragon')\n",
      "(4, 'Blue-Eyes White Dragon (Chinese)')\n",
      "(5, 'Blue-Eyes White Dragon (Asian-English)')\n",
      "(6, 'Vorse Raider')\n",
      "(7, 'Steel Ogre Grotto #2')\n",
      "(8, 'La Jinn the Mystical Genie of the Lamp')\n",
      "(9, 'Battle Ox')\n",
      "(10, 'Saggi the Dark Clown')\n",
      "(11, 'Ryu-Kishin Powered')\n",
      "(12, 'Cyber-Stein')\n",
      "(13, 'Sangan')\n",
      "(14, 'Gilasaurus')\n",
      "(15, 'Invitation to a Dark Sleep')\n",
      "(16, 'Ancient Lamp')\n",
      "(17, 'Heavy Storm')\n",
      "(18, 'Monster Reborn')\n",
      "(19, 'Premature Burial')\n",
      "(20, 'Graceful Charity')\n",
      "(21, 'Tribute to The Doomed')\n",
      "(22, 'Mesmeric Control')\n",
      "(23, 'Megamorph')\n",
      "(24, 'Soul Exchange')\n",
      "(25, 'Ekibyo Drakmord')\n",
      "(26, 'The Shallow Grave')\n",
      "(27, 'Nobleman of Extermination')\n",
      "(28, 'Nobleman of Crossout')\n",
      "(29, 'Dark Hole')\n",
      "(30, 'Snatch Steal')\n",
      "(31, 'Gift of The Mystical Elf')\n",
      "(32, 'Riryoku Field')\n",
      "(33, 'Negate Attack')\n",
      "(34, 'Ring of Destruction')\n",
      "(35, 'Shadow Spell')\n",
      "(36, 'Crush Card Virus')\n",
      "(37, 'Blue-Eyes Ultimate Dragon (Replica)')\n",
      "(38, 'Gadget Soldier')\n",
      "(39, 'Versago the Destroyer')\n",
      "(40, 'Needle Worm')\n",
      "(41, 'The Wicked Worm Beast')\n",
      "(42, \"Hiro's Shadow Scout\")\n",
      "(43, 'Morphing Jar #2')\n",
      "(44, 'Summoner of Illusions')\n",
      "(45, 'Lord of D.')\n",
      "(46, 'Man-Eater Bug')\n",
      "(47, 'The Flute of Summoning Dragon')\n",
      "(48, 'Fairy Meteor Crush')\n",
      "(49, 'Polymerization')\n",
      "(50, 'Light of Intervention')\n"
     ]
    }
   ],
   "source": [
    "for r in rows:\n",
    "    print(r)"
   ]
  },
  {
   "cell_type": "code",
   "execution_count": 47,
   "id": "15371911-f8f6-46f0-af3c-156e188a605d",
   "metadata": {},
   "outputs": [
    {
     "ename": "ProgrammingError",
     "evalue": "Cannot operate on a closed database.",
     "output_type": "error",
     "traceback": [
      "\u001b[1;31m---------------------------------------------------------------------------\u001b[0m",
      "\u001b[1;31mProgrammingError\u001b[0m                          Traceback (most recent call last)",
      "Cell \u001b[1;32mIn [47], line 1\u001b[0m\n\u001b[1;32m----> 1\u001b[0m \u001b[43mconnection\u001b[49m\u001b[38;5;241;43m.\u001b[39;49m\u001b[43mcommit\u001b[49m\u001b[43m(\u001b[49m\u001b[43m)\u001b[49m\n",
      "\u001b[1;31mProgrammingError\u001b[0m: Cannot operate on a closed database."
     ]
    }
   ],
   "source": [
    "connection.commit()"
   ]
  },
  {
   "cell_type": "code",
   "execution_count": 57,
   "id": "e981e7f5-95ca-47ac-8938-e1601fb75363",
   "metadata": {},
   "outputs": [],
   "source": [
    "connection.close()"
   ]
  },
  {
   "cell_type": "code",
   "execution_count": 3,
   "id": "dc3a4510-91d2-4163-8d28-87774baf5784",
   "metadata": {},
   "outputs": [],
   "source": [
    "df = pd.read_csv('YugiSheets2.csv')"
   ]
  },
  {
   "cell_type": "code",
   "execution_count": 4,
   "id": "570097b5-9507-43a6-8b69-c9d604b630e5",
   "metadata": {},
   "outputs": [],
   "source": [
    "df2 = df[['Name']]"
   ]
  },
  {
   "cell_type": "code",
   "execution_count": 5,
   "id": "a72e777c-e6a2-457f-b419-2c6d74716bd9",
   "metadata": {},
   "outputs": [
    {
     "data": {
      "text/html": [
       "<div>\n",
       "<style scoped>\n",
       "    .dataframe tbody tr th:only-of-type {\n",
       "        vertical-align: middle;\n",
       "    }\n",
       "\n",
       "    .dataframe tbody tr th {\n",
       "        vertical-align: top;\n",
       "    }\n",
       "\n",
       "    .dataframe thead th {\n",
       "        text-align: right;\n",
       "    }\n",
       "</style>\n",
       "<table border=\"1\" class=\"dataframe\">\n",
       "  <thead>\n",
       "    <tr style=\"text-align: right;\">\n",
       "      <th></th>\n",
       "      <th>Name</th>\n",
       "    </tr>\n",
       "  </thead>\n",
       "  <tbody>\n",
       "    <tr>\n",
       "      <th>0</th>\n",
       "      <td>\"Mystical Elf\"</td>\n",
       "    </tr>\n",
       "    <tr>\n",
       "      <th>1</th>\n",
       "      <td>\"Feral Imp\"</td>\n",
       "    </tr>\n",
       "    <tr>\n",
       "      <th>2</th>\n",
       "      <td>\"Winged Dragon, Guardian of the Fortress #1\"</td>\n",
       "    </tr>\n",
       "    <tr>\n",
       "      <th>3</th>\n",
       "      <td>\"Summoned Skull\"</td>\n",
       "    </tr>\n",
       "    <tr>\n",
       "      <th>4</th>\n",
       "      <td>\"Beaver Warrior\"</td>\n",
       "    </tr>\n",
       "    <tr>\n",
       "      <th>5</th>\n",
       "      <td>\"Dark Magician\"</td>\n",
       "    </tr>\n",
       "    <tr>\n",
       "      <th>6</th>\n",
       "      <td>\"Gaia The Fierce Knight\"</td>\n",
       "    </tr>\n",
       "    <tr>\n",
       "      <th>7</th>\n",
       "      <td>\"Curse of Dragon\"</td>\n",
       "    </tr>\n",
       "    <tr>\n",
       "      <th>8</th>\n",
       "      <td>\"Celtic Guardian\"</td>\n",
       "    </tr>\n",
       "    <tr>\n",
       "      <th>9</th>\n",
       "      <td>\"Mammoth Graveyard\"</td>\n",
       "    </tr>\n",
       "    <tr>\n",
       "      <th>10</th>\n",
       "      <td>\"Great White\"</td>\n",
       "    </tr>\n",
       "    <tr>\n",
       "      <th>11</th>\n",
       "      <td>\"Silver Fang\"</td>\n",
       "    </tr>\n",
       "    <tr>\n",
       "      <th>12</th>\n",
       "      <td>\"Giant Soldier of Stone\"</td>\n",
       "    </tr>\n",
       "    <tr>\n",
       "      <th>13</th>\n",
       "      <td>\"Dragon Zombie\"</td>\n",
       "    </tr>\n",
       "    <tr>\n",
       "      <th>14</th>\n",
       "      <td>\"Doma The Angel of Silence\"</td>\n",
       "    </tr>\n",
       "    <tr>\n",
       "      <th>15</th>\n",
       "      <td>\"Ansatsu\"</td>\n",
       "    </tr>\n",
       "    <tr>\n",
       "      <th>16</th>\n",
       "      <td>\"Witty Phantom\"</td>\n",
       "    </tr>\n",
       "    <tr>\n",
       "      <th>17</th>\n",
       "      <td>\"Claw Reacher\"</td>\n",
       "    </tr>\n",
       "    <tr>\n",
       "      <th>18</th>\n",
       "      <td>\"Mystic Clown\"</td>\n",
       "    </tr>\n",
       "    <tr>\n",
       "      <th>19</th>\n",
       "      <td>\"Sword of Dark Destruction\"</td>\n",
       "    </tr>\n",
       "    <tr>\n",
       "      <th>20</th>\n",
       "      <td>\"Book of Secret Arts\"</td>\n",
       "    </tr>\n",
       "    <tr>\n",
       "      <th>21</th>\n",
       "      <td>\"Dark Hole\"</td>\n",
       "    </tr>\n",
       "    <tr>\n",
       "      <th>22</th>\n",
       "      <td>\"Dian Keto the Cure Master\"</td>\n",
       "    </tr>\n",
       "    <tr>\n",
       "      <th>23</th>\n",
       "      <td>\"Ancient Elf\"</td>\n",
       "    </tr>\n",
       "    <tr>\n",
       "      <th>24</th>\n",
       "      <td>\"Magical Ghost\"</td>\n",
       "    </tr>\n",
       "    <tr>\n",
       "      <th>25</th>\n",
       "      <td>\"Fissure\"</td>\n",
       "    </tr>\n",
       "    <tr>\n",
       "      <th>26</th>\n",
       "      <td>\"Trap Hole\"</td>\n",
       "    </tr>\n",
       "    <tr>\n",
       "      <th>27</th>\n",
       "      <td>\"Two-Pronged Attack\"</td>\n",
       "    </tr>\n",
       "    <tr>\n",
       "      <th>28</th>\n",
       "      <td>\"De-Spell\"</td>\n",
       "    </tr>\n",
       "    <tr>\n",
       "      <th>29</th>\n",
       "      <td>\"Monster Reborn\"</td>\n",
       "    </tr>\n",
       "    <tr>\n",
       "      <th>30</th>\n",
       "      <td>\"Reinforcements\"</td>\n",
       "    </tr>\n",
       "    <tr>\n",
       "      <th>31</th>\n",
       "      <td>\"Change of Heart\"</td>\n",
       "    </tr>\n",
       "    <tr>\n",
       "      <th>32</th>\n",
       "      <td>\"The Stern Mystic\"</td>\n",
       "    </tr>\n",
       "    <tr>\n",
       "      <th>33</th>\n",
       "      <td>\"Wall of Illusion\"</td>\n",
       "    </tr>\n",
       "    <tr>\n",
       "      <th>34</th>\n",
       "      <td>\"Neo the Magic Swordsman\"</td>\n",
       "    </tr>\n",
       "    <tr>\n",
       "      <th>35</th>\n",
       "      <td>\"Baron of the Fiend Sword\"</td>\n",
       "    </tr>\n",
       "    <tr>\n",
       "      <th>36</th>\n",
       "      <td>\"Man-Eating Treasure Chest\"</td>\n",
       "    </tr>\n",
       "    <tr>\n",
       "      <th>37</th>\n",
       "      <td>\"Sorcerer of the Doomed\"</td>\n",
       "    </tr>\n",
       "    <tr>\n",
       "      <th>38</th>\n",
       "      <td>\"Last Will\"</td>\n",
       "    </tr>\n",
       "    <tr>\n",
       "      <th>39</th>\n",
       "      <td>\"Waboku\"</td>\n",
       "    </tr>\n",
       "    <tr>\n",
       "      <th>40</th>\n",
       "      <td>\"Soul Exchange\"</td>\n",
       "    </tr>\n",
       "    <tr>\n",
       "      <th>41</th>\n",
       "      <td>\"Card Destruction\"</td>\n",
       "    </tr>\n",
       "    <tr>\n",
       "      <th>42</th>\n",
       "      <td>\"Trap Master\"</td>\n",
       "    </tr>\n",
       "    <tr>\n",
       "      <th>43</th>\n",
       "      <td>\"Dragon Capture Jar\"</td>\n",
       "    </tr>\n",
       "    <tr>\n",
       "      <th>44</th>\n",
       "      <td>\"Yami\"</td>\n",
       "    </tr>\n",
       "    <tr>\n",
       "      <th>45</th>\n",
       "      <td>\"Man-Eater Bug\"</td>\n",
       "    </tr>\n",
       "    <tr>\n",
       "      <th>46</th>\n",
       "      <td>\"Reverse Trap\"</td>\n",
       "    </tr>\n",
       "    <tr>\n",
       "      <th>47</th>\n",
       "      <td>\"Remove Trap\"</td>\n",
       "    </tr>\n",
       "    <tr>\n",
       "      <th>48</th>\n",
       "      <td>\"Castle Walls\"</td>\n",
       "    </tr>\n",
       "    <tr>\n",
       "      <th>49</th>\n",
       "      <td>\"Ultimate Offering\"</td>\n",
       "    </tr>\n",
       "  </tbody>\n",
       "</table>\n",
       "</div>"
      ],
      "text/plain": [
       "                                            Name\n",
       "0                                 \"Mystical Elf\"\n",
       "1                                    \"Feral Imp\"\n",
       "2   \"Winged Dragon, Guardian of the Fortress #1\"\n",
       "3                               \"Summoned Skull\"\n",
       "4                               \"Beaver Warrior\"\n",
       "5                                \"Dark Magician\"\n",
       "6                       \"Gaia The Fierce Knight\"\n",
       "7                              \"Curse of Dragon\"\n",
       "8                              \"Celtic Guardian\"\n",
       "9                            \"Mammoth Graveyard\"\n",
       "10                                 \"Great White\"\n",
       "11                                 \"Silver Fang\"\n",
       "12                      \"Giant Soldier of Stone\"\n",
       "13                               \"Dragon Zombie\"\n",
       "14                   \"Doma The Angel of Silence\"\n",
       "15                                     \"Ansatsu\"\n",
       "16                               \"Witty Phantom\"\n",
       "17                                \"Claw Reacher\"\n",
       "18                                \"Mystic Clown\"\n",
       "19                   \"Sword of Dark Destruction\"\n",
       "20                         \"Book of Secret Arts\"\n",
       "21                                   \"Dark Hole\"\n",
       "22                   \"Dian Keto the Cure Master\"\n",
       "23                                 \"Ancient Elf\"\n",
       "24                               \"Magical Ghost\"\n",
       "25                                     \"Fissure\"\n",
       "26                                   \"Trap Hole\"\n",
       "27                          \"Two-Pronged Attack\"\n",
       "28                                    \"De-Spell\"\n",
       "29                              \"Monster Reborn\"\n",
       "30                              \"Reinforcements\"\n",
       "31                             \"Change of Heart\"\n",
       "32                            \"The Stern Mystic\"\n",
       "33                            \"Wall of Illusion\"\n",
       "34                     \"Neo the Magic Swordsman\"\n",
       "35                    \"Baron of the Fiend Sword\"\n",
       "36                   \"Man-Eating Treasure Chest\"\n",
       "37                      \"Sorcerer of the Doomed\"\n",
       "38                                   \"Last Will\"\n",
       "39                                      \"Waboku\"\n",
       "40                               \"Soul Exchange\"\n",
       "41                            \"Card Destruction\"\n",
       "42                                 \"Trap Master\"\n",
       "43                          \"Dragon Capture Jar\"\n",
       "44                                        \"Yami\"\n",
       "45                               \"Man-Eater Bug\"\n",
       "46                                \"Reverse Trap\"\n",
       "47                                 \"Remove Trap\"\n",
       "48                                \"Castle Walls\"\n",
       "49                           \"Ultimate Offering\""
      ]
     },
     "execution_count": 5,
     "metadata": {},
     "output_type": "execute_result"
    }
   ],
   "source": [
    "df2"
   ]
  },
  {
   "cell_type": "code",
   "execution_count": 6,
   "id": "1109e435-84e8-4301-a448-92bd0934cb32",
   "metadata": {},
   "outputs": [
    {
     "name": "stdout",
     "output_type": "stream",
     "text": [
      "['Mystical Elf', 'Feral Imp', 'Winged Dragon, Guardian of the Fortress #1', 'Summoned Skull', 'Beaver Warrior', 'Dark Magician', 'Gaia The Fierce Knight', 'Curse of Dragon', 'Celtic Guardian', 'Mammoth Graveyard', 'Great White', 'Silver Fang', 'Giant Soldier of Stone', 'Dragon Zombie', 'Doma The Angel of Silence', 'Ansatsu', 'Witty Phantom', 'Claw Reacher', 'Mystic Clown', 'Sword of Dark Destruction', 'Book of Secret Arts', 'Dark Hole', 'Dian Keto the Cure Master', 'Ancient Elf', 'Magical Ghost', 'Fissure', 'Trap Hole', 'Two-Pronged Attack', 'De-Spell', 'Monster Reborn', 'Reinforcements', 'Change of Heart', 'The Stern Mystic', 'Wall of Illusion', 'Neo the Magic Swordsman', 'Baron of the Fiend Sword', 'Man-Eating Treasure Chest', 'Sorcerer of the Doomed', 'Last Will', 'Waboku', 'Soul Exchange', 'Card Destruction', 'Trap Master', 'Dragon Capture Jar', 'Yami', 'Man-Eater Bug', 'Reverse Trap', 'Remove Trap', 'Castle Walls', 'Ultimate Offering']\n"
     ]
    }
   ],
   "source": [
    "cardNames = []\n",
    "for row in df2['Name']:\n",
    "    cardNames.append(row.replace('\"',''))\n",
    "print (cardNames)"
   ]
  },
  {
   "cell_type": "code",
   "execution_count": 7,
   "id": "2c5dbfa1-62f6-401b-ad9f-924409d24d11",
   "metadata": {},
   "outputs": [],
   "source": [
    "df3 = pd.DataFrame(cardNames)"
   ]
  },
  {
   "cell_type": "code",
   "execution_count": 8,
   "id": "6f42e693-e0ae-4f26-b4aa-bade30ce7484",
   "metadata": {},
   "outputs": [],
   "source": [
    "df3.to_csv(\"YugiListClean2.csv\", header=False, sep=',',index=False)"
   ]
  },
  {
   "cell_type": "code",
   "execution_count": 11,
   "id": "f98fe1d4-8c40-4d2e-9abe-b6482e2689ca",
   "metadata": {},
   "outputs": [],
   "source": [
    "connection = sqlite3.connect('Yugidb.db')"
   ]
  },
  {
   "cell_type": "code",
   "execution_count": 12,
   "id": "c7a96c7c-79c6-46fe-abf7-23ca855e2697",
   "metadata": {},
   "outputs": [],
   "source": [
    "cursor = connection.cursor()"
   ]
  },
  {
   "cell_type": "code",
   "execution_count": 13,
   "id": "a4c1e461-49f0-4573-bff1-b49cd23d2009",
   "metadata": {},
   "outputs": [
    {
     "data": {
      "text/plain": [
       "<sqlite3.Cursor at 0x206155eb2c0>"
      ]
     },
     "execution_count": 13,
     "metadata": {},
     "output_type": "execute_result"
    }
   ],
   "source": [
    "cursor.execute(\"DROP TABLE deck2\")"
   ]
  },
  {
   "cell_type": "code",
   "execution_count": 14,
   "id": "1bcbd67a-e8b1-429a-9008-a86451f8e6c8",
   "metadata": {},
   "outputs": [],
   "source": [
    "create_table = '''CREATE TABLE deck2 (\n",
    "                id INTEGER PRIMARY KEY AUTOINCREMENT,\n",
    "                name TEXT NOT NULL\n",
    "                );\n",
    "                '''"
   ]
  },
  {
   "cell_type": "code",
   "execution_count": 15,
   "id": "818d0d94-7354-4333-ba4a-eab04f00e8f2",
   "metadata": {},
   "outputs": [
    {
     "data": {
      "text/plain": [
       "<sqlite3.Cursor at 0x206155eb2c0>"
      ]
     },
     "execution_count": 15,
     "metadata": {},
     "output_type": "execute_result"
    }
   ],
   "source": [
    "cursor.execute(create_table)"
   ]
  },
  {
   "cell_type": "code",
   "execution_count": 16,
   "id": "3a1d89e5-f2d4-4c16-822a-32979a31c45d",
   "metadata": {},
   "outputs": [],
   "source": [
    "file = open(\"YugiListClean2.csv\")"
   ]
  },
  {
   "cell_type": "code",
   "execution_count": 18,
   "id": "3f835a32-159a-40cf-9160-259e88e10205",
   "metadata": {},
   "outputs": [],
   "source": [
    "import csv\n",
    "\n",
    "contents = csv.reader(file)"
   ]
  },
  {
   "cell_type": "code",
   "execution_count": 19,
   "id": "2c6fe158-c302-4020-985d-582e83792457",
   "metadata": {},
   "outputs": [
    {
     "data": {
      "text/plain": [
       "<sqlite3.Cursor at 0x206155eb2c0>"
      ]
     },
     "execution_count": 19,
     "metadata": {},
     "output_type": "execute_result"
    }
   ],
   "source": [
    "insert_records = \"INSERT INTO deck2 (name) VALUES(?)\"\n",
    " \n",
    "cursor.executemany(insert_records, contents)"
   ]
  },
  {
   "cell_type": "code",
   "execution_count": 20,
   "id": "445c8b26-a5f3-4013-8938-863c5665533f",
   "metadata": {},
   "outputs": [],
   "source": [
    "select_all = \"SELECT * FROM deck2\"\n",
    "rows = cursor.execute(select_all).fetchall()"
   ]
  },
  {
   "cell_type": "code",
   "execution_count": 21,
   "id": "e99bb795-6e09-407c-9293-376fa300f315",
   "metadata": {},
   "outputs": [
    {
     "name": "stdout",
     "output_type": "stream",
     "text": [
      "(1, 'Mystical Elf')\n",
      "(2, 'Feral Imp')\n",
      "(3, 'Winged Dragon, Guardian of the Fortress #1')\n",
      "(4, 'Summoned Skull')\n",
      "(5, 'Beaver Warrior')\n",
      "(6, 'Dark Magician')\n",
      "(7, 'Gaia The Fierce Knight')\n",
      "(8, 'Curse of Dragon')\n",
      "(9, 'Celtic Guardian')\n",
      "(10, 'Mammoth Graveyard')\n",
      "(11, 'Great White')\n",
      "(12, 'Silver Fang')\n",
      "(13, 'Giant Soldier of Stone')\n",
      "(14, 'Dragon Zombie')\n",
      "(15, 'Doma The Angel of Silence')\n",
      "(16, 'Ansatsu')\n",
      "(17, 'Witty Phantom')\n",
      "(18, 'Claw Reacher')\n",
      "(19, 'Mystic Clown')\n",
      "(20, 'Sword of Dark Destruction')\n",
      "(21, 'Book of Secret Arts')\n",
      "(22, 'Dark Hole')\n",
      "(23, 'Dian Keto the Cure Master')\n",
      "(24, 'Ancient Elf')\n",
      "(25, 'Magical Ghost')\n",
      "(26, 'Fissure')\n",
      "(27, 'Trap Hole')\n",
      "(28, 'Two-Pronged Attack')\n",
      "(29, 'De-Spell')\n",
      "(30, 'Monster Reborn')\n",
      "(31, 'Reinforcements')\n",
      "(32, 'Change of Heart')\n",
      "(33, 'The Stern Mystic')\n",
      "(34, 'Wall of Illusion')\n",
      "(35, 'Neo the Magic Swordsman')\n",
      "(36, 'Baron of the Fiend Sword')\n",
      "(37, 'Man-Eating Treasure Chest')\n",
      "(38, 'Sorcerer of the Doomed')\n",
      "(39, 'Last Will')\n",
      "(40, 'Waboku')\n",
      "(41, 'Soul Exchange')\n",
      "(42, 'Card Destruction')\n",
      "(43, 'Trap Master')\n",
      "(44, 'Dragon Capture Jar')\n",
      "(45, 'Yami')\n",
      "(46, 'Man-Eater Bug')\n",
      "(47, 'Reverse Trap')\n",
      "(48, 'Remove Trap')\n",
      "(49, 'Castle Walls')\n",
      "(50, 'Ultimate Offering')\n"
     ]
    }
   ],
   "source": [
    "for r in rows:\n",
    "    print(r)"
   ]
  },
  {
   "cell_type": "code",
   "execution_count": 22,
   "id": "1e32de78-5e38-4bea-b450-f65478a3713a",
   "metadata": {},
   "outputs": [],
   "source": [
    "connection.commit()"
   ]
  },
  {
   "cell_type": "code",
   "execution_count": 23,
   "id": "1366edae-b875-4da4-9849-07bb28eed680",
   "metadata": {},
   "outputs": [],
   "source": [
    "connection.close()"
   ]
  },
  {
   "cell_type": "code",
   "execution_count": null,
   "id": "9dfd1c39-fcec-42a3-a343-34532dc092ec",
   "metadata": {},
   "outputs": [],
   "source": []
  }
 ],
 "metadata": {
  "kernelspec": {
   "display_name": "Python 3 (ipykernel)",
   "language": "python",
   "name": "python3"
  },
  "language_info": {
   "codemirror_mode": {
    "name": "ipython",
    "version": 3
   },
   "file_extension": ".py",
   "mimetype": "text/x-python",
   "name": "python",
   "nbconvert_exporter": "python",
   "pygments_lexer": "ipython3",
   "version": "3.10.7"
  }
 },
 "nbformat": 4,
 "nbformat_minor": 5
}
