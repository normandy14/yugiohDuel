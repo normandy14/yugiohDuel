{
 "cells": [
  {
   "cell_type": "code",
   "execution_count": 53,
   "id": "d8cc186a-1ba5-449c-a8a7-6feecad82eda",
   "metadata": {},
   "outputs": [],
   "source": [
    "import pandas as pd\n",
    "import csv"
   ]
  },
  {
   "cell_type": "code",
   "execution_count": 54,
   "id": "1a3d2a1a-a544-44b0-85af-6ef61d018c7d",
   "metadata": {},
   "outputs": [],
   "source": [
    "df = pd.read_csv('YugiSheets.csv')"
   ]
  },
  {
   "cell_type": "code",
   "execution_count": 55,
   "id": "e7bcfe36-b358-46a3-9b45-aef065cc3d56",
   "metadata": {},
   "outputs": [],
   "source": [
    "df2 = df[['Name']]"
   ]
  },
  {
   "cell_type": "code",
   "execution_count": 56,
   "id": "b6c2fb36-23bc-4583-b0f5-572cff65ac24",
   "metadata": {},
   "outputs": [
    {
     "data": {
      "text/html": [
       "<div>\n",
       "<style scoped>\n",
       "    .dataframe tbody tr th:only-of-type {\n",
       "        vertical-align: middle;\n",
       "    }\n",
       "\n",
       "    .dataframe tbody tr th {\n",
       "        vertical-align: top;\n",
       "    }\n",
       "\n",
       "    .dataframe thead th {\n",
       "        text-align: right;\n",
       "    }\n",
       "</style>\n",
       "<table border=\"1\" class=\"dataframe\">\n",
       "  <thead>\n",
       "    <tr style=\"text-align: right;\">\n",
       "      <th></th>\n",
       "      <th>Name</th>\n",
       "    </tr>\n",
       "  </thead>\n",
       "  <tbody>\n",
       "    <tr>\n",
       "      <th>0</th>\n",
       "      <td>\"Blue-Eyes White Dragon\"</td>\n",
       "    </tr>\n",
       "    <tr>\n",
       "      <th>1</th>\n",
       "      <td>\"Hitotsu-Me Giant\"</td>\n",
       "    </tr>\n",
       "    <tr>\n",
       "      <th>2</th>\n",
       "      <td>\"Ryu-Kishin\"</td>\n",
       "    </tr>\n",
       "    <tr>\n",
       "      <th>3</th>\n",
       "      <td>\"The Wicked Worm Beast\"</td>\n",
       "    </tr>\n",
       "    <tr>\n",
       "      <th>4</th>\n",
       "      <td>\"Battle Ox\"</td>\n",
       "    </tr>\n",
       "    <tr>\n",
       "      <th>5</th>\n",
       "      <td>\"Koumori Dragon\"</td>\n",
       "    </tr>\n",
       "    <tr>\n",
       "      <th>6</th>\n",
       "      <td>\"Judge Man\"</td>\n",
       "    </tr>\n",
       "    <tr>\n",
       "      <th>7</th>\n",
       "      <td>\"Rogue Doll\"</td>\n",
       "    </tr>\n",
       "    <tr>\n",
       "      <th>8</th>\n",
       "      <td>\"Kojikocy\"</td>\n",
       "    </tr>\n",
       "    <tr>\n",
       "      <th>9</th>\n",
       "      <td>\"Uraby\"</td>\n",
       "    </tr>\n",
       "    <tr>\n",
       "      <th>10</th>\n",
       "      <td>\"Gyakutenno Megami\"</td>\n",
       "    </tr>\n",
       "    <tr>\n",
       "      <th>11</th>\n",
       "      <td>\"Mystic Horseman\"</td>\n",
       "    </tr>\n",
       "    <tr>\n",
       "      <th>12</th>\n",
       "      <td>\"Terra the Terrible\"</td>\n",
       "    </tr>\n",
       "    <tr>\n",
       "      <th>13</th>\n",
       "      <td>\"Dark Titan of Terror\"</td>\n",
       "    </tr>\n",
       "    <tr>\n",
       "      <th>14</th>\n",
       "      <td>\"Dark Assailant\"</td>\n",
       "    </tr>\n",
       "    <tr>\n",
       "      <th>15</th>\n",
       "      <td>\"Master &amp; Expert\"</td>\n",
       "    </tr>\n",
       "    <tr>\n",
       "      <th>16</th>\n",
       "      <td>\"Unknown Warrior of Fiend\"</td>\n",
       "    </tr>\n",
       "    <tr>\n",
       "      <th>17</th>\n",
       "      <td>\"Mystic Clown\"</td>\n",
       "    </tr>\n",
       "    <tr>\n",
       "      <th>18</th>\n",
       "      <td>\"Ogre of the Black Shadow\"</td>\n",
       "    </tr>\n",
       "    <tr>\n",
       "      <th>19</th>\n",
       "      <td>\"Dark Energy\"</td>\n",
       "    </tr>\n",
       "    <tr>\n",
       "      <th>20</th>\n",
       "      <td>\"Invigoration\"</td>\n",
       "    </tr>\n",
       "    <tr>\n",
       "      <th>21</th>\n",
       "      <td>\"Dark Hole\"</td>\n",
       "    </tr>\n",
       "    <tr>\n",
       "      <th>22</th>\n",
       "      <td>\"Ookazi\"</td>\n",
       "    </tr>\n",
       "    <tr>\n",
       "      <th>23</th>\n",
       "      <td>\"Ryu-Kishin Powered\"</td>\n",
       "    </tr>\n",
       "    <tr>\n",
       "      <th>24</th>\n",
       "      <td>\"Swordstalker\"</td>\n",
       "    </tr>\n",
       "    <tr>\n",
       "      <th>25</th>\n",
       "      <td>\"La Jinn the Mystical Genie of the Lamp\"</td>\n",
       "    </tr>\n",
       "    <tr>\n",
       "      <th>26</th>\n",
       "      <td>\"Rude Kaiser\"</td>\n",
       "    </tr>\n",
       "    <tr>\n",
       "      <th>27</th>\n",
       "      <td>\"Destroyer Golem\"</td>\n",
       "    </tr>\n",
       "    <tr>\n",
       "      <th>28</th>\n",
       "      <td>\"Skull Red Bird\"</td>\n",
       "    </tr>\n",
       "    <tr>\n",
       "      <th>29</th>\n",
       "      <td>\"D. Human\"</td>\n",
       "    </tr>\n",
       "    <tr>\n",
       "      <th>30</th>\n",
       "      <td>\"Pale Beast\"</td>\n",
       "    </tr>\n",
       "    <tr>\n",
       "      <th>31</th>\n",
       "      <td>\"Fissure\"</td>\n",
       "    </tr>\n",
       "    <tr>\n",
       "      <th>32</th>\n",
       "      <td>\"Trap Hole\"</td>\n",
       "    </tr>\n",
       "    <tr>\n",
       "      <th>33</th>\n",
       "      <td>\"Two-Pronged Attack\"</td>\n",
       "    </tr>\n",
       "    <tr>\n",
       "      <th>34</th>\n",
       "      <td>\"De-Spell\"</td>\n",
       "    </tr>\n",
       "    <tr>\n",
       "      <th>35</th>\n",
       "      <td>\"Monster Reborn\"</td>\n",
       "    </tr>\n",
       "    <tr>\n",
       "      <th>36</th>\n",
       "      <td>\"The Inexperienced Spy\"</td>\n",
       "    </tr>\n",
       "    <tr>\n",
       "      <th>37</th>\n",
       "      <td>\"Reinforcements\"</td>\n",
       "    </tr>\n",
       "    <tr>\n",
       "      <th>38</th>\n",
       "      <td>\"Ancient Telescope\"</td>\n",
       "    </tr>\n",
       "    <tr>\n",
       "      <th>39</th>\n",
       "      <td>\"Just Desserts\"</td>\n",
       "    </tr>\n",
       "    <tr>\n",
       "      <th>40</th>\n",
       "      <td>\"Lord of D.\"</td>\n",
       "    </tr>\n",
       "    <tr>\n",
       "      <th>41</th>\n",
       "      <td>\"The Flute of Summoning Dragon\"</td>\n",
       "    </tr>\n",
       "    <tr>\n",
       "      <th>42</th>\n",
       "      <td>\"Mysterious Puppeteer\"</td>\n",
       "    </tr>\n",
       "    <tr>\n",
       "      <th>43</th>\n",
       "      <td>\"Trap Master\"</td>\n",
       "    </tr>\n",
       "    <tr>\n",
       "      <th>44</th>\n",
       "      <td>\"Sogen\"</td>\n",
       "    </tr>\n",
       "    <tr>\n",
       "      <th>45</th>\n",
       "      <td>\"Hane-Hane\"</td>\n",
       "    </tr>\n",
       "    <tr>\n",
       "      <th>46</th>\n",
       "      <td>\"Reverse Trap\"</td>\n",
       "    </tr>\n",
       "    <tr>\n",
       "      <th>47</th>\n",
       "      <td>\"Remove Trap\"</td>\n",
       "    </tr>\n",
       "    <tr>\n",
       "      <th>48</th>\n",
       "      <td>\"Castle Walls\"</td>\n",
       "    </tr>\n",
       "    <tr>\n",
       "      <th>49</th>\n",
       "      <td>\"Ultimate Offering\"</td>\n",
       "    </tr>\n",
       "  </tbody>\n",
       "</table>\n",
       "</div>"
      ],
      "text/plain": [
       "                                        Name\n",
       "0                   \"Blue-Eyes White Dragon\"\n",
       "1                         \"Hitotsu-Me Giant\"\n",
       "2                               \"Ryu-Kishin\"\n",
       "3                    \"The Wicked Worm Beast\"\n",
       "4                                \"Battle Ox\"\n",
       "5                           \"Koumori Dragon\"\n",
       "6                                \"Judge Man\"\n",
       "7                               \"Rogue Doll\"\n",
       "8                                 \"Kojikocy\"\n",
       "9                                    \"Uraby\"\n",
       "10                       \"Gyakutenno Megami\"\n",
       "11                         \"Mystic Horseman\"\n",
       "12                      \"Terra the Terrible\"\n",
       "13                    \"Dark Titan of Terror\"\n",
       "14                          \"Dark Assailant\"\n",
       "15                         \"Master & Expert\"\n",
       "16                \"Unknown Warrior of Fiend\"\n",
       "17                            \"Mystic Clown\"\n",
       "18                \"Ogre of the Black Shadow\"\n",
       "19                             \"Dark Energy\"\n",
       "20                            \"Invigoration\"\n",
       "21                               \"Dark Hole\"\n",
       "22                                  \"Ookazi\"\n",
       "23                      \"Ryu-Kishin Powered\"\n",
       "24                            \"Swordstalker\"\n",
       "25  \"La Jinn the Mystical Genie of the Lamp\"\n",
       "26                             \"Rude Kaiser\"\n",
       "27                         \"Destroyer Golem\"\n",
       "28                          \"Skull Red Bird\"\n",
       "29                                \"D. Human\"\n",
       "30                              \"Pale Beast\"\n",
       "31                                 \"Fissure\"\n",
       "32                               \"Trap Hole\"\n",
       "33                      \"Two-Pronged Attack\"\n",
       "34                                \"De-Spell\"\n",
       "35                          \"Monster Reborn\"\n",
       "36                   \"The Inexperienced Spy\"\n",
       "37                          \"Reinforcements\"\n",
       "38                       \"Ancient Telescope\"\n",
       "39                           \"Just Desserts\"\n",
       "40                              \"Lord of D.\"\n",
       "41           \"The Flute of Summoning Dragon\"\n",
       "42                    \"Mysterious Puppeteer\"\n",
       "43                             \"Trap Master\"\n",
       "44                                   \"Sogen\"\n",
       "45                               \"Hane-Hane\"\n",
       "46                            \"Reverse Trap\"\n",
       "47                             \"Remove Trap\"\n",
       "48                            \"Castle Walls\"\n",
       "49                       \"Ultimate Offering\""
      ]
     },
     "execution_count": 56,
     "metadata": {},
     "output_type": "execute_result"
    }
   ],
   "source": [
    "df2"
   ]
  },
  {
   "cell_type": "code",
   "execution_count": 57,
   "id": "d1015186-c75c-4722-ae8a-8ef05b89795f",
   "metadata": {},
   "outputs": [
    {
     "name": "stdout",
     "output_type": "stream",
     "text": [
      "['Blue-Eyes White Dragon', 'Hitotsu-Me Giant', 'Ryu-Kishin', 'The Wicked Worm Beast', 'Battle Ox', 'Koumori Dragon', 'Judge Man', 'Rogue Doll', 'Kojikocy', 'Uraby', 'Gyakutenno Megami', 'Mystic Horseman', 'Terra the Terrible', 'Dark Titan of Terror', 'Dark Assailant', 'Master & Expert', 'Unknown Warrior of Fiend', 'Mystic Clown', 'Ogre of the Black Shadow', 'Dark Energy', 'Invigoration', 'Dark Hole', 'Ookazi', 'Ryu-Kishin Powered', 'Swordstalker', 'La Jinn the Mystical Genie of the Lamp', 'Rude Kaiser', 'Destroyer Golem', 'Skull Red Bird', 'D. Human', 'Pale Beast', 'Fissure', 'Trap Hole', 'Two-Pronged Attack', 'De-Spell', 'Monster Reborn', 'The Inexperienced Spy', 'Reinforcements', 'Ancient Telescope', 'Just Desserts', 'Lord of D.', 'The Flute of Summoning Dragon', 'Mysterious Puppeteer', 'Trap Master', 'Sogen', 'Hane-Hane', 'Reverse Trap', 'Remove Trap', 'Castle Walls', 'Ultimate Offering']\n"
     ]
    }
   ],
   "source": [
    "cardNames = []\n",
    "for row in df2['Name']:\n",
    "    cardNames.append(row.replace('\"',''))\n",
    "print (cardNames)"
   ]
  },
  {
   "cell_type": "code",
   "execution_count": 58,
   "id": "7fa6cd3a-598d-4c30-8403-4426ed69a47a",
   "metadata": {},
   "outputs": [],
   "source": [
    "df3 = pd.DataFrame(cardNames)"
   ]
  },
  {
   "cell_type": "code",
   "execution_count": 59,
   "id": "a0573a1b-26ac-4d77-a46a-4d3fd00b4a16",
   "metadata": {},
   "outputs": [],
   "source": [
    "df3.to_csv(\"YugiListClean.csv\", header=False, sep=',',index=False)"
   ]
  },
  {
   "cell_type": "code",
   "execution_count": 48,
   "id": "e9358868-cbc5-4306-8557-6cdf1fbcbfe6",
   "metadata": {},
   "outputs": [],
   "source": [
    "import sqlite3"
   ]
  },
  {
   "cell_type": "code",
   "execution_count": 60,
   "id": "98ea7323-43eb-447c-8ca0-5d97085033e2",
   "metadata": {},
   "outputs": [],
   "source": [
    "connection = sqlite3.connect('Yugidb.db')"
   ]
  },
  {
   "cell_type": "code",
   "execution_count": 61,
   "id": "5b2ef279-ba4b-4230-b860-6f2b5a2999e2",
   "metadata": {},
   "outputs": [],
   "source": [
    "cursor = connection.cursor()"
   ]
  },
  {
   "cell_type": "code",
   "execution_count": 62,
   "id": "d95a4ed0-8934-43e0-825a-3efc8dff3c3f",
   "metadata": {},
   "outputs": [
    {
     "data": {
      "text/plain": [
       "<sqlite3.Cursor at 0x20a217dd5c0>"
      ]
     },
     "execution_count": 62,
     "metadata": {},
     "output_type": "execute_result"
    }
   ],
   "source": [
    "cursor.execute(\"DROP TABLE IF EXISTS deck1\")"
   ]
  },
  {
   "cell_type": "code",
   "execution_count": 63,
   "id": "3aa296e1-261a-48b7-bcd6-efb670c03a9e",
   "metadata": {},
   "outputs": [],
   "source": [
    "create_table = '''CREATE TABLE deck1 (\n",
    "                id INTEGER PRIMARY KEY AUTOINCREMENT,\n",
    "                name TEXT NOT NULL\n",
    "                );\n",
    "                '''"
   ]
  },
  {
   "cell_type": "code",
   "execution_count": 64,
   "id": "50eb2e42-b2a8-4fea-85b3-5bdf4e1ec93f",
   "metadata": {},
   "outputs": [
    {
     "data": {
      "text/plain": [
       "<sqlite3.Cursor at 0x20a217dd5c0>"
      ]
     },
     "execution_count": 64,
     "metadata": {},
     "output_type": "execute_result"
    }
   ],
   "source": [
    "cursor.execute(create_table)"
   ]
  },
  {
   "cell_type": "code",
   "execution_count": 65,
   "id": "931aaf94-45a4-4af6-b580-cfc59c303a47",
   "metadata": {},
   "outputs": [],
   "source": [
    "file = open(\"YugiListClean.csv\")"
   ]
  },
  {
   "cell_type": "code",
   "execution_count": 66,
   "id": "f95e4e03-026b-46ac-8aa8-928aa8a5ee7d",
   "metadata": {},
   "outputs": [],
   "source": [
    "contents = csv.reader(file)"
   ]
  },
  {
   "cell_type": "code",
   "execution_count": 67,
   "id": "60fe9fd8-9c2d-4768-99b3-c3ce8681cced",
   "metadata": {},
   "outputs": [
    {
     "data": {
      "text/plain": [
       "<sqlite3.Cursor at 0x20a217dd5c0>"
      ]
     },
     "execution_count": 67,
     "metadata": {},
     "output_type": "execute_result"
    }
   ],
   "source": [
    "insert_records = \"INSERT INTO deck1 (name) VALUES(?)\"\n",
    " \n",
    "cursor.executemany(insert_records, contents)"
   ]
  },
  {
   "cell_type": "code",
   "execution_count": 68,
   "id": "0e410f3c-bedf-4866-9f61-fecd449b2eca",
   "metadata": {},
   "outputs": [],
   "source": [
    "select_all = \"SELECT * FROM deck1\"\n",
    "rows = cursor.execute(select_all).fetchall()"
   ]
  },
  {
   "cell_type": "code",
   "execution_count": 69,
   "id": "cb5654d5-9227-4677-b325-be1c66c01fd8",
   "metadata": {},
   "outputs": [
    {
     "name": "stdout",
     "output_type": "stream",
     "text": [
      "(1, 'Blue-Eyes White Dragon')\n",
      "(2, 'Hitotsu-Me Giant')\n",
      "(3, 'Ryu-Kishin')\n",
      "(4, 'The Wicked Worm Beast')\n",
      "(5, 'Battle Ox')\n",
      "(6, 'Koumori Dragon')\n",
      "(7, 'Judge Man')\n",
      "(8, 'Rogue Doll')\n",
      "(9, 'Kojikocy')\n",
      "(10, 'Uraby')\n",
      "(11, 'Gyakutenno Megami')\n",
      "(12, 'Mystic Horseman')\n",
      "(13, 'Terra the Terrible')\n",
      "(14, 'Dark Titan of Terror')\n",
      "(15, 'Dark Assailant')\n",
      "(16, 'Master & Expert')\n",
      "(17, 'Unknown Warrior of Fiend')\n",
      "(18, 'Mystic Clown')\n",
      "(19, 'Ogre of the Black Shadow')\n",
      "(20, 'Dark Energy')\n",
      "(21, 'Invigoration')\n",
      "(22, 'Dark Hole')\n",
      "(23, 'Ookazi')\n",
      "(24, 'Ryu-Kishin Powered')\n",
      "(25, 'Swordstalker')\n",
      "(26, 'La Jinn the Mystical Genie of the Lamp')\n",
      "(27, 'Rude Kaiser')\n",
      "(28, 'Destroyer Golem')\n",
      "(29, 'Skull Red Bird')\n",
      "(30, 'D. Human')\n",
      "(31, 'Pale Beast')\n",
      "(32, 'Fissure')\n",
      "(33, 'Trap Hole')\n",
      "(34, 'Two-Pronged Attack')\n",
      "(35, 'De-Spell')\n",
      "(36, 'Monster Reborn')\n",
      "(37, 'The Inexperienced Spy')\n",
      "(38, 'Reinforcements')\n",
      "(39, 'Ancient Telescope')\n",
      "(40, 'Just Desserts')\n",
      "(41, 'Lord of D.')\n",
      "(42, 'The Flute of Summoning Dragon')\n",
      "(43, 'Mysterious Puppeteer')\n",
      "(44, 'Trap Master')\n",
      "(45, 'Sogen')\n",
      "(46, 'Hane-Hane')\n",
      "(47, 'Reverse Trap')\n",
      "(48, 'Remove Trap')\n",
      "(49, 'Castle Walls')\n",
      "(50, 'Ultimate Offering')\n"
     ]
    }
   ],
   "source": [
    "for r in rows:\n",
    "    print(r)"
   ]
  },
  {
   "cell_type": "code",
   "execution_count": 70,
   "id": "15371911-f8f6-46f0-af3c-156e188a605d",
   "metadata": {},
   "outputs": [],
   "source": [
    "connection.commit()"
   ]
  },
  {
   "cell_type": "code",
   "execution_count": 71,
   "id": "e981e7f5-95ca-47ac-8938-e1601fb75363",
   "metadata": {},
   "outputs": [],
   "source": [
    "connection.close()"
   ]
  },
  {
   "cell_type": "code",
   "execution_count": 72,
   "id": "dc3a4510-91d2-4163-8d28-87774baf5784",
   "metadata": {},
   "outputs": [],
   "source": [
    "df = pd.read_csv('YugiSheets2.csv')"
   ]
  },
  {
   "cell_type": "code",
   "execution_count": 73,
   "id": "570097b5-9507-43a6-8b69-c9d604b630e5",
   "metadata": {},
   "outputs": [],
   "source": [
    "df2 = df[['Name']]"
   ]
  },
  {
   "cell_type": "code",
   "execution_count": 74,
   "id": "a72e777c-e6a2-457f-b419-2c6d74716bd9",
   "metadata": {},
   "outputs": [
    {
     "data": {
      "text/html": [
       "<div>\n",
       "<style scoped>\n",
       "    .dataframe tbody tr th:only-of-type {\n",
       "        vertical-align: middle;\n",
       "    }\n",
       "\n",
       "    .dataframe tbody tr th {\n",
       "        vertical-align: top;\n",
       "    }\n",
       "\n",
       "    .dataframe thead th {\n",
       "        text-align: right;\n",
       "    }\n",
       "</style>\n",
       "<table border=\"1\" class=\"dataframe\">\n",
       "  <thead>\n",
       "    <tr style=\"text-align: right;\">\n",
       "      <th></th>\n",
       "      <th>Name</th>\n",
       "    </tr>\n",
       "  </thead>\n",
       "  <tbody>\n",
       "    <tr>\n",
       "      <th>0</th>\n",
       "      <td>\"Mystical Elf\"</td>\n",
       "    </tr>\n",
       "    <tr>\n",
       "      <th>1</th>\n",
       "      <td>\"Feral Imp\"</td>\n",
       "    </tr>\n",
       "    <tr>\n",
       "      <th>2</th>\n",
       "      <td>\"Winged Dragon, Guardian of the Fortress #1\"</td>\n",
       "    </tr>\n",
       "    <tr>\n",
       "      <th>3</th>\n",
       "      <td>\"Summoned Skull\"</td>\n",
       "    </tr>\n",
       "    <tr>\n",
       "      <th>4</th>\n",
       "      <td>\"Beaver Warrior\"</td>\n",
       "    </tr>\n",
       "    <tr>\n",
       "      <th>5</th>\n",
       "      <td>\"Dark Magician\"</td>\n",
       "    </tr>\n",
       "    <tr>\n",
       "      <th>6</th>\n",
       "      <td>\"Gaia The Fierce Knight\"</td>\n",
       "    </tr>\n",
       "    <tr>\n",
       "      <th>7</th>\n",
       "      <td>\"Curse of Dragon\"</td>\n",
       "    </tr>\n",
       "    <tr>\n",
       "      <th>8</th>\n",
       "      <td>\"Celtic Guardian\"</td>\n",
       "    </tr>\n",
       "    <tr>\n",
       "      <th>9</th>\n",
       "      <td>\"Mammoth Graveyard\"</td>\n",
       "    </tr>\n",
       "    <tr>\n",
       "      <th>10</th>\n",
       "      <td>\"Great White\"</td>\n",
       "    </tr>\n",
       "    <tr>\n",
       "      <th>11</th>\n",
       "      <td>\"Silver Fang\"</td>\n",
       "    </tr>\n",
       "    <tr>\n",
       "      <th>12</th>\n",
       "      <td>\"Giant Soldier of Stone\"</td>\n",
       "    </tr>\n",
       "    <tr>\n",
       "      <th>13</th>\n",
       "      <td>\"Dragon Zombie\"</td>\n",
       "    </tr>\n",
       "    <tr>\n",
       "      <th>14</th>\n",
       "      <td>\"Doma The Angel of Silence\"</td>\n",
       "    </tr>\n",
       "    <tr>\n",
       "      <th>15</th>\n",
       "      <td>\"Ansatsu\"</td>\n",
       "    </tr>\n",
       "    <tr>\n",
       "      <th>16</th>\n",
       "      <td>\"Witty Phantom\"</td>\n",
       "    </tr>\n",
       "    <tr>\n",
       "      <th>17</th>\n",
       "      <td>\"Claw Reacher\"</td>\n",
       "    </tr>\n",
       "    <tr>\n",
       "      <th>18</th>\n",
       "      <td>\"Mystic Clown\"</td>\n",
       "    </tr>\n",
       "    <tr>\n",
       "      <th>19</th>\n",
       "      <td>\"Sword of Dark Destruction\"</td>\n",
       "    </tr>\n",
       "    <tr>\n",
       "      <th>20</th>\n",
       "      <td>\"Book of Secret Arts\"</td>\n",
       "    </tr>\n",
       "    <tr>\n",
       "      <th>21</th>\n",
       "      <td>\"Dark Hole\"</td>\n",
       "    </tr>\n",
       "    <tr>\n",
       "      <th>22</th>\n",
       "      <td>\"Dian Keto the Cure Master\"</td>\n",
       "    </tr>\n",
       "    <tr>\n",
       "      <th>23</th>\n",
       "      <td>\"Ancient Elf\"</td>\n",
       "    </tr>\n",
       "    <tr>\n",
       "      <th>24</th>\n",
       "      <td>\"Magical Ghost\"</td>\n",
       "    </tr>\n",
       "    <tr>\n",
       "      <th>25</th>\n",
       "      <td>\"Fissure\"</td>\n",
       "    </tr>\n",
       "    <tr>\n",
       "      <th>26</th>\n",
       "      <td>\"Trap Hole\"</td>\n",
       "    </tr>\n",
       "    <tr>\n",
       "      <th>27</th>\n",
       "      <td>\"Two-Pronged Attack\"</td>\n",
       "    </tr>\n",
       "    <tr>\n",
       "      <th>28</th>\n",
       "      <td>\"De-Spell\"</td>\n",
       "    </tr>\n",
       "    <tr>\n",
       "      <th>29</th>\n",
       "      <td>\"Monster Reborn\"</td>\n",
       "    </tr>\n",
       "    <tr>\n",
       "      <th>30</th>\n",
       "      <td>\"Reinforcements\"</td>\n",
       "    </tr>\n",
       "    <tr>\n",
       "      <th>31</th>\n",
       "      <td>\"Change of Heart\"</td>\n",
       "    </tr>\n",
       "    <tr>\n",
       "      <th>32</th>\n",
       "      <td>\"The Stern Mystic\"</td>\n",
       "    </tr>\n",
       "    <tr>\n",
       "      <th>33</th>\n",
       "      <td>\"Wall of Illusion\"</td>\n",
       "    </tr>\n",
       "    <tr>\n",
       "      <th>34</th>\n",
       "      <td>\"Neo the Magic Swordsman\"</td>\n",
       "    </tr>\n",
       "    <tr>\n",
       "      <th>35</th>\n",
       "      <td>\"Baron of the Fiend Sword\"</td>\n",
       "    </tr>\n",
       "    <tr>\n",
       "      <th>36</th>\n",
       "      <td>\"Man-Eating Treasure Chest\"</td>\n",
       "    </tr>\n",
       "    <tr>\n",
       "      <th>37</th>\n",
       "      <td>\"Sorcerer of the Doomed\"</td>\n",
       "    </tr>\n",
       "    <tr>\n",
       "      <th>38</th>\n",
       "      <td>\"Last Will\"</td>\n",
       "    </tr>\n",
       "    <tr>\n",
       "      <th>39</th>\n",
       "      <td>\"Waboku\"</td>\n",
       "    </tr>\n",
       "    <tr>\n",
       "      <th>40</th>\n",
       "      <td>\"Soul Exchange\"</td>\n",
       "    </tr>\n",
       "    <tr>\n",
       "      <th>41</th>\n",
       "      <td>\"Card Destruction\"</td>\n",
       "    </tr>\n",
       "    <tr>\n",
       "      <th>42</th>\n",
       "      <td>\"Trap Master\"</td>\n",
       "    </tr>\n",
       "    <tr>\n",
       "      <th>43</th>\n",
       "      <td>\"Dragon Capture Jar\"</td>\n",
       "    </tr>\n",
       "    <tr>\n",
       "      <th>44</th>\n",
       "      <td>\"Yami\"</td>\n",
       "    </tr>\n",
       "    <tr>\n",
       "      <th>45</th>\n",
       "      <td>\"Man-Eater Bug\"</td>\n",
       "    </tr>\n",
       "    <tr>\n",
       "      <th>46</th>\n",
       "      <td>\"Reverse Trap\"</td>\n",
       "    </tr>\n",
       "    <tr>\n",
       "      <th>47</th>\n",
       "      <td>\"Remove Trap\"</td>\n",
       "    </tr>\n",
       "    <tr>\n",
       "      <th>48</th>\n",
       "      <td>\"Castle Walls\"</td>\n",
       "    </tr>\n",
       "    <tr>\n",
       "      <th>49</th>\n",
       "      <td>\"Ultimate Offering\"</td>\n",
       "    </tr>\n",
       "  </tbody>\n",
       "</table>\n",
       "</div>"
      ],
      "text/plain": [
       "                                            Name\n",
       "0                                 \"Mystical Elf\"\n",
       "1                                    \"Feral Imp\"\n",
       "2   \"Winged Dragon, Guardian of the Fortress #1\"\n",
       "3                               \"Summoned Skull\"\n",
       "4                               \"Beaver Warrior\"\n",
       "5                                \"Dark Magician\"\n",
       "6                       \"Gaia The Fierce Knight\"\n",
       "7                              \"Curse of Dragon\"\n",
       "8                              \"Celtic Guardian\"\n",
       "9                            \"Mammoth Graveyard\"\n",
       "10                                 \"Great White\"\n",
       "11                                 \"Silver Fang\"\n",
       "12                      \"Giant Soldier of Stone\"\n",
       "13                               \"Dragon Zombie\"\n",
       "14                   \"Doma The Angel of Silence\"\n",
       "15                                     \"Ansatsu\"\n",
       "16                               \"Witty Phantom\"\n",
       "17                                \"Claw Reacher\"\n",
       "18                                \"Mystic Clown\"\n",
       "19                   \"Sword of Dark Destruction\"\n",
       "20                         \"Book of Secret Arts\"\n",
       "21                                   \"Dark Hole\"\n",
       "22                   \"Dian Keto the Cure Master\"\n",
       "23                                 \"Ancient Elf\"\n",
       "24                               \"Magical Ghost\"\n",
       "25                                     \"Fissure\"\n",
       "26                                   \"Trap Hole\"\n",
       "27                          \"Two-Pronged Attack\"\n",
       "28                                    \"De-Spell\"\n",
       "29                              \"Monster Reborn\"\n",
       "30                              \"Reinforcements\"\n",
       "31                             \"Change of Heart\"\n",
       "32                            \"The Stern Mystic\"\n",
       "33                            \"Wall of Illusion\"\n",
       "34                     \"Neo the Magic Swordsman\"\n",
       "35                    \"Baron of the Fiend Sword\"\n",
       "36                   \"Man-Eating Treasure Chest\"\n",
       "37                      \"Sorcerer of the Doomed\"\n",
       "38                                   \"Last Will\"\n",
       "39                                      \"Waboku\"\n",
       "40                               \"Soul Exchange\"\n",
       "41                            \"Card Destruction\"\n",
       "42                                 \"Trap Master\"\n",
       "43                          \"Dragon Capture Jar\"\n",
       "44                                        \"Yami\"\n",
       "45                               \"Man-Eater Bug\"\n",
       "46                                \"Reverse Trap\"\n",
       "47                                 \"Remove Trap\"\n",
       "48                                \"Castle Walls\"\n",
       "49                           \"Ultimate Offering\""
      ]
     },
     "execution_count": 74,
     "metadata": {},
     "output_type": "execute_result"
    }
   ],
   "source": [
    "df2"
   ]
  },
  {
   "cell_type": "code",
   "execution_count": 75,
   "id": "1109e435-84e8-4301-a448-92bd0934cb32",
   "metadata": {},
   "outputs": [
    {
     "name": "stdout",
     "output_type": "stream",
     "text": [
      "['Mystical Elf', 'Feral Imp', 'Winged Dragon, Guardian of the Fortress #1', 'Summoned Skull', 'Beaver Warrior', 'Dark Magician', 'Gaia The Fierce Knight', 'Curse of Dragon', 'Celtic Guardian', 'Mammoth Graveyard', 'Great White', 'Silver Fang', 'Giant Soldier of Stone', 'Dragon Zombie', 'Doma The Angel of Silence', 'Ansatsu', 'Witty Phantom', 'Claw Reacher', 'Mystic Clown', 'Sword of Dark Destruction', 'Book of Secret Arts', 'Dark Hole', 'Dian Keto the Cure Master', 'Ancient Elf', 'Magical Ghost', 'Fissure', 'Trap Hole', 'Two-Pronged Attack', 'De-Spell', 'Monster Reborn', 'Reinforcements', 'Change of Heart', 'The Stern Mystic', 'Wall of Illusion', 'Neo the Magic Swordsman', 'Baron of the Fiend Sword', 'Man-Eating Treasure Chest', 'Sorcerer of the Doomed', 'Last Will', 'Waboku', 'Soul Exchange', 'Card Destruction', 'Trap Master', 'Dragon Capture Jar', 'Yami', 'Man-Eater Bug', 'Reverse Trap', 'Remove Trap', 'Castle Walls', 'Ultimate Offering']\n"
     ]
    }
   ],
   "source": [
    "cardNames = []\n",
    "for row in df2['Name']:\n",
    "    cardNames.append(row.replace('\"',''))\n",
    "print (cardNames)"
   ]
  },
  {
   "cell_type": "code",
   "execution_count": 76,
   "id": "2c5dbfa1-62f6-401b-ad9f-924409d24d11",
   "metadata": {},
   "outputs": [],
   "source": [
    "df3 = pd.DataFrame(cardNames)"
   ]
  },
  {
   "cell_type": "code",
   "execution_count": 77,
   "id": "6f42e693-e0ae-4f26-b4aa-bade30ce7484",
   "metadata": {},
   "outputs": [],
   "source": [
    "df3.to_csv(\"YugiListClean2.csv\", header=False, sep=',',index=False)"
   ]
  },
  {
   "cell_type": "code",
   "execution_count": 78,
   "id": "f98fe1d4-8c40-4d2e-9abe-b6482e2689ca",
   "metadata": {},
   "outputs": [],
   "source": [
    "connection = sqlite3.connect('Yugidb.db')"
   ]
  },
  {
   "cell_type": "code",
   "execution_count": 79,
   "id": "c7a96c7c-79c6-46fe-abf7-23ca855e2697",
   "metadata": {},
   "outputs": [],
   "source": [
    "cursor = connection.cursor()"
   ]
  },
  {
   "cell_type": "code",
   "execution_count": 80,
   "id": "a4c1e461-49f0-4573-bff1-b49cd23d2009",
   "metadata": {},
   "outputs": [
    {
     "data": {
      "text/plain": [
       "<sqlite3.Cursor at 0x20a217dec40>"
      ]
     },
     "execution_count": 80,
     "metadata": {},
     "output_type": "execute_result"
    }
   ],
   "source": [
    "cursor.execute(\"DROP TABLE IF EXISTS deck2\")"
   ]
  },
  {
   "cell_type": "code",
   "execution_count": 81,
   "id": "1bcbd67a-e8b1-429a-9008-a86451f8e6c8",
   "metadata": {},
   "outputs": [],
   "source": [
    "create_table = '''CREATE TABLE deck2 (\n",
    "                id INTEGER PRIMARY KEY AUTOINCREMENT,\n",
    "                name TEXT NOT NULL\n",
    "                );\n",
    "                '''"
   ]
  },
  {
   "cell_type": "code",
   "execution_count": 82,
   "id": "818d0d94-7354-4333-ba4a-eab04f00e8f2",
   "metadata": {},
   "outputs": [
    {
     "data": {
      "text/plain": [
       "<sqlite3.Cursor at 0x20a217dec40>"
      ]
     },
     "execution_count": 82,
     "metadata": {},
     "output_type": "execute_result"
    }
   ],
   "source": [
    "cursor.execute(create_table)"
   ]
  },
  {
   "cell_type": "code",
   "execution_count": 83,
   "id": "3a1d89e5-f2d4-4c16-822a-32979a31c45d",
   "metadata": {},
   "outputs": [],
   "source": [
    "file = open(\"YugiListClean2.csv\")"
   ]
  },
  {
   "cell_type": "code",
   "execution_count": 84,
   "id": "3f835a32-159a-40cf-9160-259e88e10205",
   "metadata": {},
   "outputs": [],
   "source": [
    "import csv\n",
    "\n",
    "contents = csv.reader(file)"
   ]
  },
  {
   "cell_type": "code",
   "execution_count": 85,
   "id": "2c6fe158-c302-4020-985d-582e83792457",
   "metadata": {},
   "outputs": [
    {
     "data": {
      "text/plain": [
       "<sqlite3.Cursor at 0x20a217dec40>"
      ]
     },
     "execution_count": 85,
     "metadata": {},
     "output_type": "execute_result"
    }
   ],
   "source": [
    "insert_records = \"INSERT INTO deck2 (name) VALUES(?)\"\n",
    " \n",
    "cursor.executemany(insert_records, contents)"
   ]
  },
  {
   "cell_type": "code",
   "execution_count": 86,
   "id": "445c8b26-a5f3-4013-8938-863c5665533f",
   "metadata": {},
   "outputs": [],
   "source": [
    "select_all = \"SELECT * FROM deck2\"\n",
    "rows = cursor.execute(select_all).fetchall()"
   ]
  },
  {
   "cell_type": "code",
   "execution_count": 87,
   "id": "e99bb795-6e09-407c-9293-376fa300f315",
   "metadata": {},
   "outputs": [
    {
     "name": "stdout",
     "output_type": "stream",
     "text": [
      "(1, 'Mystical Elf')\n",
      "(2, 'Feral Imp')\n",
      "(3, 'Winged Dragon, Guardian of the Fortress #1')\n",
      "(4, 'Summoned Skull')\n",
      "(5, 'Beaver Warrior')\n",
      "(6, 'Dark Magician')\n",
      "(7, 'Gaia The Fierce Knight')\n",
      "(8, 'Curse of Dragon')\n",
      "(9, 'Celtic Guardian')\n",
      "(10, 'Mammoth Graveyard')\n",
      "(11, 'Great White')\n",
      "(12, 'Silver Fang')\n",
      "(13, 'Giant Soldier of Stone')\n",
      "(14, 'Dragon Zombie')\n",
      "(15, 'Doma The Angel of Silence')\n",
      "(16, 'Ansatsu')\n",
      "(17, 'Witty Phantom')\n",
      "(18, 'Claw Reacher')\n",
      "(19, 'Mystic Clown')\n",
      "(20, 'Sword of Dark Destruction')\n",
      "(21, 'Book of Secret Arts')\n",
      "(22, 'Dark Hole')\n",
      "(23, 'Dian Keto the Cure Master')\n",
      "(24, 'Ancient Elf')\n",
      "(25, 'Magical Ghost')\n",
      "(26, 'Fissure')\n",
      "(27, 'Trap Hole')\n",
      "(28, 'Two-Pronged Attack')\n",
      "(29, 'De-Spell')\n",
      "(30, 'Monster Reborn')\n",
      "(31, 'Reinforcements')\n",
      "(32, 'Change of Heart')\n",
      "(33, 'The Stern Mystic')\n",
      "(34, 'Wall of Illusion')\n",
      "(35, 'Neo the Magic Swordsman')\n",
      "(36, 'Baron of the Fiend Sword')\n",
      "(37, 'Man-Eating Treasure Chest')\n",
      "(38, 'Sorcerer of the Doomed')\n",
      "(39, 'Last Will')\n",
      "(40, 'Waboku')\n",
      "(41, 'Soul Exchange')\n",
      "(42, 'Card Destruction')\n",
      "(43, 'Trap Master')\n",
      "(44, 'Dragon Capture Jar')\n",
      "(45, 'Yami')\n",
      "(46, 'Man-Eater Bug')\n",
      "(47, 'Reverse Trap')\n",
      "(48, 'Remove Trap')\n",
      "(49, 'Castle Walls')\n",
      "(50, 'Ultimate Offering')\n"
     ]
    }
   ],
   "source": [
    "for r in rows:\n",
    "    print(r)"
   ]
  },
  {
   "cell_type": "code",
   "execution_count": 22,
   "id": "1e32de78-5e38-4bea-b450-f65478a3713a",
   "metadata": {},
   "outputs": [],
   "source": [
    "connection.commit()"
   ]
  },
  {
   "cell_type": "code",
   "execution_count": 23,
   "id": "1366edae-b875-4da4-9849-07bb28eed680",
   "metadata": {},
   "outputs": [],
   "source": [
    "connection.close()"
   ]
  },
  {
   "cell_type": "code",
   "execution_count": null,
   "id": "9dfd1c39-fcec-42a3-a343-34532dc092ec",
   "metadata": {},
   "outputs": [],
   "source": []
  }
 ],
 "metadata": {
  "kernelspec": {
   "display_name": "Python 3 (ipykernel)",
   "language": "python",
   "name": "python3"
  },
  "language_info": {
   "codemirror_mode": {
    "name": "ipython",
    "version": 3
   },
   "file_extension": ".py",
   "mimetype": "text/x-python",
   "name": "python",
   "nbconvert_exporter": "python",
   "pygments_lexer": "ipython3",
   "version": "3.10.7"
  }
 },
 "nbformat": 4,
 "nbformat_minor": 5
}
